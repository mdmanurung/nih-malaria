{
 "cells": [
  {
   "cell_type": "code",
   "execution_count": 6,
   "metadata": {},
   "outputs": [],
   "source": [
    "suppressPackageStartupMessages({\n",
    "    library(tidyverse)\n",
    "    library(scuttle)\n",
    "    library(DropletUtils)\n",
    "})"
   ]
  },
  {
   "cell_type": "code",
   "execution_count": 4,
   "metadata": {},
   "outputs": [],
   "source": [
    "path <- \"data/pilot/pbmc1/exports/lgtc/equipment/NovaSeq/Genomescan_105448-037/PBMC1_count/outs/multi/count/raw_feature_bc_matrix\""
   ]
  },
  {
   "cell_type": "code",
   "execution_count": 7,
   "metadata": {},
   "outputs": [
    {
     "name": "stderr",
     "output_type": "stream",
     "text": [
      "as(<dgTMatrix>, \"dgCMatrix\") is deprecated since Matrix 1.5-0; do as(., \"CsparseMatrix\") instead\n",
      "\n"
     ]
    }
   ],
   "source": [
    "sce <- read10xCounts(path)"
   ]
  },
  {
   "cell_type": "code",
   "execution_count": 8,
   "metadata": {},
   "outputs": [
    {
     "data": {
      "text/plain": [
       "class: SingleCellExperiment \n",
       "dim: 36742 733819 \n",
       "metadata(1): Samples\n",
       "assays(1): counts\n",
       "rownames(36742): ENSG00000243485 ENSG00000237613 ... ADT_C0238\n",
       "  ADT_C0095\n",
       "rowData names(3): ID Symbol Type\n",
       "colnames: NULL\n",
       "colData names(2): Sample Barcode\n",
       "reducedDimNames(0):\n",
       "mainExpName: NULL\n",
       "altExpNames(0):"
      ]
     },
     "metadata": {},
     "output_type": "display_data"
    }
   ],
   "source": [
    "sce"
   ]
  },
  {
   "cell_type": "code",
   "execution_count": 9,
   "metadata": {},
   "outputs": [
    {
     "data": {
      "text/html": [
       "<style>\n",
       ".list-inline {list-style: none; margin:0; padding: 0}\n",
       ".list-inline>li {display: inline-block}\n",
       ".list-inline>li:not(:last-child)::after {content: \"\\00b7\"; padding: 0 .5ex}\n",
       "</style>\n",
       "<ol class=list-inline><li>'ADT_C0146'</li><li>'ADT_C0066'</li><li>'ADT_C0394'</li><li>'ADT_C0577'</li><li>'ADT_C0187'</li><li>'ADT_C0046'</li><li>'ADT_C0373'</li><li>'ADT_C0920'</li><li>'ADT_C0359'</li><li>'ADT_C0896'</li><li>'ADT_C0006'</li><li>'ADT_C1046'</li><li>'ADT_C0867'</li><li>'ADT_C0156'</li><li>'ADT_C0845'</li><li>'ADT_C0853'</li><li>'ADT_C0179'</li><li>'ADT_C0352'</li><li>'ADT_C0912'</li><li>'ADT_C0058'</li><li>'ADT_C0159'</li><li>'ADT_C0918'</li><li>'ADT_C0894'</li><li>'ADT_C0898'</li><li>'ADT_C0384'</li><li>'ADT_C0136'</li><li>'ADT_C0153'</li><li>'ADT_C0591'</li><li>'ADT_C0224'</li><li>'ADT_C0581'</li><li>'ADT_C0582'</li><li>'ADT_C0089'</li><li>'ADT_C0073'</li><li>'ADT_C0070'</li><li>'ADT_C0214'</li><li>'ADT_C0171'</li><li>'ADT_C0241'</li><li>'ADT_C0091'</li><li>'ADT_C0090'</li><li>'ADT_C0092'</li><li>'ADT_C0236'</li><li>'ADT_C0238'</li><li>'ADT_C0095'</li></ol>\n"
      ],
      "text/latex": [
       "\\begin{enumerate*}\n",
       "\\item 'ADT\\_C0146'\n",
       "\\item 'ADT\\_C0066'\n",
       "\\item 'ADT\\_C0394'\n",
       "\\item 'ADT\\_C0577'\n",
       "\\item 'ADT\\_C0187'\n",
       "\\item 'ADT\\_C0046'\n",
       "\\item 'ADT\\_C0373'\n",
       "\\item 'ADT\\_C0920'\n",
       "\\item 'ADT\\_C0359'\n",
       "\\item 'ADT\\_C0896'\n",
       "\\item 'ADT\\_C0006'\n",
       "\\item 'ADT\\_C1046'\n",
       "\\item 'ADT\\_C0867'\n",
       "\\item 'ADT\\_C0156'\n",
       "\\item 'ADT\\_C0845'\n",
       "\\item 'ADT\\_C0853'\n",
       "\\item 'ADT\\_C0179'\n",
       "\\item 'ADT\\_C0352'\n",
       "\\item 'ADT\\_C0912'\n",
       "\\item 'ADT\\_C0058'\n",
       "\\item 'ADT\\_C0159'\n",
       "\\item 'ADT\\_C0918'\n",
       "\\item 'ADT\\_C0894'\n",
       "\\item 'ADT\\_C0898'\n",
       "\\item 'ADT\\_C0384'\n",
       "\\item 'ADT\\_C0136'\n",
       "\\item 'ADT\\_C0153'\n",
       "\\item 'ADT\\_C0591'\n",
       "\\item 'ADT\\_C0224'\n",
       "\\item 'ADT\\_C0581'\n",
       "\\item 'ADT\\_C0582'\n",
       "\\item 'ADT\\_C0089'\n",
       "\\item 'ADT\\_C0073'\n",
       "\\item 'ADT\\_C0070'\n",
       "\\item 'ADT\\_C0214'\n",
       "\\item 'ADT\\_C0171'\n",
       "\\item 'ADT\\_C0241'\n",
       "\\item 'ADT\\_C0091'\n",
       "\\item 'ADT\\_C0090'\n",
       "\\item 'ADT\\_C0092'\n",
       "\\item 'ADT\\_C0236'\n",
       "\\item 'ADT\\_C0238'\n",
       "\\item 'ADT\\_C0095'\n",
       "\\end{enumerate*}\n"
      ],
      "text/markdown": [
       "1. 'ADT_C0146'\n",
       "2. 'ADT_C0066'\n",
       "3. 'ADT_C0394'\n",
       "4. 'ADT_C0577'\n",
       "5. 'ADT_C0187'\n",
       "6. 'ADT_C0046'\n",
       "7. 'ADT_C0373'\n",
       "8. 'ADT_C0920'\n",
       "9. 'ADT_C0359'\n",
       "10. 'ADT_C0896'\n",
       "11. 'ADT_C0006'\n",
       "12. 'ADT_C1046'\n",
       "13. 'ADT_C0867'\n",
       "14. 'ADT_C0156'\n",
       "15. 'ADT_C0845'\n",
       "16. 'ADT_C0853'\n",
       "17. 'ADT_C0179'\n",
       "18. 'ADT_C0352'\n",
       "19. 'ADT_C0912'\n",
       "20. 'ADT_C0058'\n",
       "21. 'ADT_C0159'\n",
       "22. 'ADT_C0918'\n",
       "23. 'ADT_C0894'\n",
       "24. 'ADT_C0898'\n",
       "25. 'ADT_C0384'\n",
       "26. 'ADT_C0136'\n",
       "27. 'ADT_C0153'\n",
       "28. 'ADT_C0591'\n",
       "29. 'ADT_C0224'\n",
       "30. 'ADT_C0581'\n",
       "31. 'ADT_C0582'\n",
       "32. 'ADT_C0089'\n",
       "33. 'ADT_C0073'\n",
       "34. 'ADT_C0070'\n",
       "35. 'ADT_C0214'\n",
       "36. 'ADT_C0171'\n",
       "37. 'ADT_C0241'\n",
       "38. 'ADT_C0091'\n",
       "39. 'ADT_C0090'\n",
       "40. 'ADT_C0092'\n",
       "41. 'ADT_C0236'\n",
       "42. 'ADT_C0238'\n",
       "43. 'ADT_C0095'\n",
       "\n",
       "\n"
      ],
      "text/plain": [
       " [1] \"ADT_C0146\" \"ADT_C0066\" \"ADT_C0394\" \"ADT_C0577\" \"ADT_C0187\" \"ADT_C0046\"\n",
       " [7] \"ADT_C0373\" \"ADT_C0920\" \"ADT_C0359\" \"ADT_C0896\" \"ADT_C0006\" \"ADT_C1046\"\n",
       "[13] \"ADT_C0867\" \"ADT_C0156\" \"ADT_C0845\" \"ADT_C0853\" \"ADT_C0179\" \"ADT_C0352\"\n",
       "[19] \"ADT_C0912\" \"ADT_C0058\" \"ADT_C0159\" \"ADT_C0918\" \"ADT_C0894\" \"ADT_C0898\"\n",
       "[25] \"ADT_C0384\" \"ADT_C0136\" \"ADT_C0153\" \"ADT_C0591\" \"ADT_C0224\" \"ADT_C0581\"\n",
       "[31] \"ADT_C0582\" \"ADT_C0089\" \"ADT_C0073\" \"ADT_C0070\" \"ADT_C0214\" \"ADT_C0171\"\n",
       "[37] \"ADT_C0241\" \"ADT_C0091\" \"ADT_C0090\" \"ADT_C0092\" \"ADT_C0236\" \"ADT_C0238\"\n",
       "[43] \"ADT_C0095\""
      ]
     },
     "metadata": {},
     "output_type": "display_data"
    }
   ],
   "source": [
    "rownames(sce)[36700:36742]"
   ]
  },
  {
   "cell_type": "code",
   "execution_count": 11,
   "metadata": {},
   "outputs": [
    {
     "data": {
      "text/plain": [
       "DataFrame with 36742 rows and 3 columns\n",
       "                             ID          Symbol             Type\n",
       "                    <character>     <character>      <character>\n",
       "ENSG00000243485 ENSG00000243485     MIR1302-2HG  Gene Expression\n",
       "ENSG00000237613 ENSG00000237613         FAM138A  Gene Expression\n",
       "ENSG00000186092 ENSG00000186092           OR4F5  Gene Expression\n",
       "ENSG00000238009 ENSG00000238009      AL627309.1  Gene Expression\n",
       "ENSG00000239945 ENSG00000239945      AL627309.3  Gene Expression\n",
       "...                         ...             ...              ...\n",
       "ADT_C0090             ADT_C0090 Isotype_MOPC.21 Antibody Capture\n",
       "ADT_C0092             ADT_C0092  Isotype_MPC.11 Antibody Capture\n",
       "ADT_C0236             ADT_C0236 Isotype_RTK2071 Antibody Capture\n",
       "ADT_C0238             ADT_C0238 Isotype_RTK2758 Antibody Capture\n",
       "ADT_C0095             ADT_C0095 Isotype_RTK4530 Antibody Capture"
      ]
     },
     "metadata": {},
     "output_type": "display_data"
    }
   ],
   "source": [
    "rowData(sce)"
   ]
  },
  {
   "cell_type": "code",
   "execution_count": 13,
   "metadata": {},
   "outputs": [
    {
     "data": {
      "text/html": [
       "<style>\n",
       ".list-inline {list-style: none; margin:0; padding: 0}\n",
       ".list-inline>li {display: inline-block}\n",
       ".list-inline>li:not(:last-child)::after {content: \"\\00b7\"; padding: 0 .5ex}\n",
       "</style>\n",
       "<ol class=list-inline><li>'18'</li><li>'349'</li><li>'339'</li><li>'417'</li><li>'ADT_C0944'</li><li>'ADT_C0145'</li><li>'ADT_C0068'</li><li>'ADT_C0155'</li><li>'ADT_C0024'</li><li>'ADT_C0219'</li><li>'ADT_C0185'</li><li>'ADT_C0161'</li><li>'ADT_C0053'</li><li>'ADT_C0246'</li><li>'ADT_C0064'</li><li>'ADT_C0363'</li><li>'ADT_C0390'</li><li>'ADT_C0364'</li><li>'ADT_C0158'</li><li>'ADT_C0355'</li><li>'ADT_C0163'</li><li>'ADT_C0134'</li><li>'ADT_C0081'</li><li>'ADT_C0151'</li><li>'ADT_C0032'</li><li>'ADT_C0023'</li><li>'ADT_C0420'</li><li>'ADT_C0592'</li><li>'ADT_C0599'</li><li>'ADT_C0083'</li><li>'ADT_C0149'</li><li>'ADT_C0358'</li><li>'ADT_C0206'</li><li>'ADT_C0385'</li><li>'ADT_C0140'</li><li>'ADT_C0144'</li><li>'ADT_C0050'</li><li>'ADT_C0071'</li><li>'ADT_C0141'</li><li>'ADT_C0143'</li><li>'ADT_C0160'</li><li>'ADT_C0164'</li><li>'ADT_C0367'</li><li>'ADT_C0100'</li><li>'ADT_C0181'</li><li>'ADT_C0393'</li><li>'ADT_C0152'</li><li>'ADT_C1052'</li><li>'ADT_C0368'</li><li>'ADT_C0897'</li><li>'ADT_C0180'</li><li>'ADT_C0189'</li><li>'ADT_C0085'</li><li>'ADT_C0396'</li><li>'ADT_C0247'</li><li>'ADT_C0215'</li><li>'ADT_C0154'</li><li>'ADT_C0020'</li><li>'ADT_C0170'</li><li>'ADT_C0007'</li><li>'ADT_C0088'</li><li>'ADT_C0386'</li><li>'ADT_C0369'</li><li>'ADT_C0370'</li><li>'ADT_C0124'</li><li>'ADT_C0165'</li><li>'ADT_C0830'</li><li>'ADT_C0142'</li><li>'ADT_C0902'</li><li>'ADT_C0052'</li><li>'ADT_C0101'</li><li>'ADT_C0167'</li><li>'ADT_C0864'</li><li>'ADT_C0407'</li><li>'ADT_C0389'</li><li>'ADT_C0176'</li><li>'ADT_C0034'</li><li>'ADT_C0031'</li><li>'ADT_C0353'</li><li>'ADT_C0216'</li><li>'ADT_C0063'</li><li>'ADT_C0087'</li><li>'ADT_C0391'</li><li>'ADT_C0026'</li><li>'ADT_C0029'</li><li>'ADT_C0575'</li><li>'ADT_C0371'</li><li>'ADT_C0576'</li><li>'ADT_C0072'</li><li>'ADT_C0138'</li><li>'ADT_C0033'</li><li>'ADT_C0217'</li><li>'ADT_C0047'</li><li>'ADT_C0168'</li><li>'ADT_C0174'</li><li>'ADT_C0147'</li><li>'ADT_C0218'</li><li>'ADT_C0162'</li><li>'ADT_C0146'</li><li>'ADT_C0066'</li><li>'ADT_C0394'</li><li>'ADT_C0577'</li><li>'ADT_C0187'</li><li>'ADT_C0046'</li><li>'ADT_C0373'</li><li>'ADT_C0920'</li><li>'ADT_C0359'</li><li>'ADT_C0896'</li><li>'ADT_C0006'</li><li>'ADT_C1046'</li><li>'ADT_C0867'</li><li>'ADT_C0156'</li><li>'ADT_C0845'</li><li>'ADT_C0853'</li><li>'ADT_C0179'</li><li>'ADT_C0352'</li><li>'ADT_C0912'</li><li>'ADT_C0058'</li><li>'ADT_C0159'</li><li>'ADT_C0918'</li><li>'ADT_C0894'</li><li>'ADT_C0898'</li><li>'ADT_C0384'</li><li>'ADT_C0136'</li><li>'ADT_C0153'</li><li>'ADT_C0591'</li><li>'ADT_C0224'</li><li>'ADT_C0581'</li><li>'ADT_C0582'</li><li>'ADT_C0089'</li><li>'ADT_C0073'</li><li>'ADT_C0070'</li><li>'ADT_C0214'</li><li>'ADT_C0171'</li><li>'ADT_C0241'</li><li>'ADT_C0091'</li><li>'ADT_C0090'</li><li>'ADT_C0092'</li><li>'ADT_C0236'</li><li>'ADT_C0238'</li><li>'ADT_C0095'</li></ol>\n"
      ],
      "text/latex": [
       "\\begin{enumerate*}\n",
       "\\item '18'\n",
       "\\item '349'\n",
       "\\item '339'\n",
       "\\item '417'\n",
       "\\item 'ADT\\_C0944'\n",
       "\\item 'ADT\\_C0145'\n",
       "\\item 'ADT\\_C0068'\n",
       "\\item 'ADT\\_C0155'\n",
       "\\item 'ADT\\_C0024'\n",
       "\\item 'ADT\\_C0219'\n",
       "\\item 'ADT\\_C0185'\n",
       "\\item 'ADT\\_C0161'\n",
       "\\item 'ADT\\_C0053'\n",
       "\\item 'ADT\\_C0246'\n",
       "\\item 'ADT\\_C0064'\n",
       "\\item 'ADT\\_C0363'\n",
       "\\item 'ADT\\_C0390'\n",
       "\\item 'ADT\\_C0364'\n",
       "\\item 'ADT\\_C0158'\n",
       "\\item 'ADT\\_C0355'\n",
       "\\item 'ADT\\_C0163'\n",
       "\\item 'ADT\\_C0134'\n",
       "\\item 'ADT\\_C0081'\n",
       "\\item 'ADT\\_C0151'\n",
       "\\item 'ADT\\_C0032'\n",
       "\\item 'ADT\\_C0023'\n",
       "\\item 'ADT\\_C0420'\n",
       "\\item 'ADT\\_C0592'\n",
       "\\item 'ADT\\_C0599'\n",
       "\\item 'ADT\\_C0083'\n",
       "\\item 'ADT\\_C0149'\n",
       "\\item 'ADT\\_C0358'\n",
       "\\item 'ADT\\_C0206'\n",
       "\\item 'ADT\\_C0385'\n",
       "\\item 'ADT\\_C0140'\n",
       "\\item 'ADT\\_C0144'\n",
       "\\item 'ADT\\_C0050'\n",
       "\\item 'ADT\\_C0071'\n",
       "\\item 'ADT\\_C0141'\n",
       "\\item 'ADT\\_C0143'\n",
       "\\item 'ADT\\_C0160'\n",
       "\\item 'ADT\\_C0164'\n",
       "\\item 'ADT\\_C0367'\n",
       "\\item 'ADT\\_C0100'\n",
       "\\item 'ADT\\_C0181'\n",
       "\\item 'ADT\\_C0393'\n",
       "\\item 'ADT\\_C0152'\n",
       "\\item 'ADT\\_C1052'\n",
       "\\item 'ADT\\_C0368'\n",
       "\\item 'ADT\\_C0897'\n",
       "\\item 'ADT\\_C0180'\n",
       "\\item 'ADT\\_C0189'\n",
       "\\item 'ADT\\_C0085'\n",
       "\\item 'ADT\\_C0396'\n",
       "\\item 'ADT\\_C0247'\n",
       "\\item 'ADT\\_C0215'\n",
       "\\item 'ADT\\_C0154'\n",
       "\\item 'ADT\\_C0020'\n",
       "\\item 'ADT\\_C0170'\n",
       "\\item 'ADT\\_C0007'\n",
       "\\item 'ADT\\_C0088'\n",
       "\\item 'ADT\\_C0386'\n",
       "\\item 'ADT\\_C0369'\n",
       "\\item 'ADT\\_C0370'\n",
       "\\item 'ADT\\_C0124'\n",
       "\\item 'ADT\\_C0165'\n",
       "\\item 'ADT\\_C0830'\n",
       "\\item 'ADT\\_C0142'\n",
       "\\item 'ADT\\_C0902'\n",
       "\\item 'ADT\\_C0052'\n",
       "\\item 'ADT\\_C0101'\n",
       "\\item 'ADT\\_C0167'\n",
       "\\item 'ADT\\_C0864'\n",
       "\\item 'ADT\\_C0407'\n",
       "\\item 'ADT\\_C0389'\n",
       "\\item 'ADT\\_C0176'\n",
       "\\item 'ADT\\_C0034'\n",
       "\\item 'ADT\\_C0031'\n",
       "\\item 'ADT\\_C0353'\n",
       "\\item 'ADT\\_C0216'\n",
       "\\item 'ADT\\_C0063'\n",
       "\\item 'ADT\\_C0087'\n",
       "\\item 'ADT\\_C0391'\n",
       "\\item 'ADT\\_C0026'\n",
       "\\item 'ADT\\_C0029'\n",
       "\\item 'ADT\\_C0575'\n",
       "\\item 'ADT\\_C0371'\n",
       "\\item 'ADT\\_C0576'\n",
       "\\item 'ADT\\_C0072'\n",
       "\\item 'ADT\\_C0138'\n",
       "\\item 'ADT\\_C0033'\n",
       "\\item 'ADT\\_C0217'\n",
       "\\item 'ADT\\_C0047'\n",
       "\\item 'ADT\\_C0168'\n",
       "\\item 'ADT\\_C0174'\n",
       "\\item 'ADT\\_C0147'\n",
       "\\item 'ADT\\_C0218'\n",
       "\\item 'ADT\\_C0162'\n",
       "\\item 'ADT\\_C0146'\n",
       "\\item 'ADT\\_C0066'\n",
       "\\item 'ADT\\_C0394'\n",
       "\\item 'ADT\\_C0577'\n",
       "\\item 'ADT\\_C0187'\n",
       "\\item 'ADT\\_C0046'\n",
       "\\item 'ADT\\_C0373'\n",
       "\\item 'ADT\\_C0920'\n",
       "\\item 'ADT\\_C0359'\n",
       "\\item 'ADT\\_C0896'\n",
       "\\item 'ADT\\_C0006'\n",
       "\\item 'ADT\\_C1046'\n",
       "\\item 'ADT\\_C0867'\n",
       "\\item 'ADT\\_C0156'\n",
       "\\item 'ADT\\_C0845'\n",
       "\\item 'ADT\\_C0853'\n",
       "\\item 'ADT\\_C0179'\n",
       "\\item 'ADT\\_C0352'\n",
       "\\item 'ADT\\_C0912'\n",
       "\\item 'ADT\\_C0058'\n",
       "\\item 'ADT\\_C0159'\n",
       "\\item 'ADT\\_C0918'\n",
       "\\item 'ADT\\_C0894'\n",
       "\\item 'ADT\\_C0898'\n",
       "\\item 'ADT\\_C0384'\n",
       "\\item 'ADT\\_C0136'\n",
       "\\item 'ADT\\_C0153'\n",
       "\\item 'ADT\\_C0591'\n",
       "\\item 'ADT\\_C0224'\n",
       "\\item 'ADT\\_C0581'\n",
       "\\item 'ADT\\_C0582'\n",
       "\\item 'ADT\\_C0089'\n",
       "\\item 'ADT\\_C0073'\n",
       "\\item 'ADT\\_C0070'\n",
       "\\item 'ADT\\_C0214'\n",
       "\\item 'ADT\\_C0171'\n",
       "\\item 'ADT\\_C0241'\n",
       "\\item 'ADT\\_C0091'\n",
       "\\item 'ADT\\_C0090'\n",
       "\\item 'ADT\\_C0092'\n",
       "\\item 'ADT\\_C0236'\n",
       "\\item 'ADT\\_C0238'\n",
       "\\item 'ADT\\_C0095'\n",
       "\\end{enumerate*}\n"
      ],
      "text/markdown": [
       "1. '18'\n",
       "2. '349'\n",
       "3. '339'\n",
       "4. '417'\n",
       "5. 'ADT_C0944'\n",
       "6. 'ADT_C0145'\n",
       "7. 'ADT_C0068'\n",
       "8. 'ADT_C0155'\n",
       "9. 'ADT_C0024'\n",
       "10. 'ADT_C0219'\n",
       "11. 'ADT_C0185'\n",
       "12. 'ADT_C0161'\n",
       "13. 'ADT_C0053'\n",
       "14. 'ADT_C0246'\n",
       "15. 'ADT_C0064'\n",
       "16. 'ADT_C0363'\n",
       "17. 'ADT_C0390'\n",
       "18. 'ADT_C0364'\n",
       "19. 'ADT_C0158'\n",
       "20. 'ADT_C0355'\n",
       "21. 'ADT_C0163'\n",
       "22. 'ADT_C0134'\n",
       "23. 'ADT_C0081'\n",
       "24. 'ADT_C0151'\n",
       "25. 'ADT_C0032'\n",
       "26. 'ADT_C0023'\n",
       "27. 'ADT_C0420'\n",
       "28. 'ADT_C0592'\n",
       "29. 'ADT_C0599'\n",
       "30. 'ADT_C0083'\n",
       "31. 'ADT_C0149'\n",
       "32. 'ADT_C0358'\n",
       "33. 'ADT_C0206'\n",
       "34. 'ADT_C0385'\n",
       "35. 'ADT_C0140'\n",
       "36. 'ADT_C0144'\n",
       "37. 'ADT_C0050'\n",
       "38. 'ADT_C0071'\n",
       "39. 'ADT_C0141'\n",
       "40. 'ADT_C0143'\n",
       "41. 'ADT_C0160'\n",
       "42. 'ADT_C0164'\n",
       "43. 'ADT_C0367'\n",
       "44. 'ADT_C0100'\n",
       "45. 'ADT_C0181'\n",
       "46. 'ADT_C0393'\n",
       "47. 'ADT_C0152'\n",
       "48. 'ADT_C1052'\n",
       "49. 'ADT_C0368'\n",
       "50. 'ADT_C0897'\n",
       "51. 'ADT_C0180'\n",
       "52. 'ADT_C0189'\n",
       "53. 'ADT_C0085'\n",
       "54. 'ADT_C0396'\n",
       "55. 'ADT_C0247'\n",
       "56. 'ADT_C0215'\n",
       "57. 'ADT_C0154'\n",
       "58. 'ADT_C0020'\n",
       "59. 'ADT_C0170'\n",
       "60. 'ADT_C0007'\n",
       "61. 'ADT_C0088'\n",
       "62. 'ADT_C0386'\n",
       "63. 'ADT_C0369'\n",
       "64. 'ADT_C0370'\n",
       "65. 'ADT_C0124'\n",
       "66. 'ADT_C0165'\n",
       "67. 'ADT_C0830'\n",
       "68. 'ADT_C0142'\n",
       "69. 'ADT_C0902'\n",
       "70. 'ADT_C0052'\n",
       "71. 'ADT_C0101'\n",
       "72. 'ADT_C0167'\n",
       "73. 'ADT_C0864'\n",
       "74. 'ADT_C0407'\n",
       "75. 'ADT_C0389'\n",
       "76. 'ADT_C0176'\n",
       "77. 'ADT_C0034'\n",
       "78. 'ADT_C0031'\n",
       "79. 'ADT_C0353'\n",
       "80. 'ADT_C0216'\n",
       "81. 'ADT_C0063'\n",
       "82. 'ADT_C0087'\n",
       "83. 'ADT_C0391'\n",
       "84. 'ADT_C0026'\n",
       "85. 'ADT_C0029'\n",
       "86. 'ADT_C0575'\n",
       "87. 'ADT_C0371'\n",
       "88. 'ADT_C0576'\n",
       "89. 'ADT_C0072'\n",
       "90. 'ADT_C0138'\n",
       "91. 'ADT_C0033'\n",
       "92. 'ADT_C0217'\n",
       "93. 'ADT_C0047'\n",
       "94. 'ADT_C0168'\n",
       "95. 'ADT_C0174'\n",
       "96. 'ADT_C0147'\n",
       "97. 'ADT_C0218'\n",
       "98. 'ADT_C0162'\n",
       "99. 'ADT_C0146'\n",
       "100. 'ADT_C0066'\n",
       "101. 'ADT_C0394'\n",
       "102. 'ADT_C0577'\n",
       "103. 'ADT_C0187'\n",
       "104. 'ADT_C0046'\n",
       "105. 'ADT_C0373'\n",
       "106. 'ADT_C0920'\n",
       "107. 'ADT_C0359'\n",
       "108. 'ADT_C0896'\n",
       "109. 'ADT_C0006'\n",
       "110. 'ADT_C1046'\n",
       "111. 'ADT_C0867'\n",
       "112. 'ADT_C0156'\n",
       "113. 'ADT_C0845'\n",
       "114. 'ADT_C0853'\n",
       "115. 'ADT_C0179'\n",
       "116. 'ADT_C0352'\n",
       "117. 'ADT_C0912'\n",
       "118. 'ADT_C0058'\n",
       "119. 'ADT_C0159'\n",
       "120. 'ADT_C0918'\n",
       "121. 'ADT_C0894'\n",
       "122. 'ADT_C0898'\n",
       "123. 'ADT_C0384'\n",
       "124. 'ADT_C0136'\n",
       "125. 'ADT_C0153'\n",
       "126. 'ADT_C0591'\n",
       "127. 'ADT_C0224'\n",
       "128. 'ADT_C0581'\n",
       "129. 'ADT_C0582'\n",
       "130. 'ADT_C0089'\n",
       "131. 'ADT_C0073'\n",
       "132. 'ADT_C0070'\n",
       "133. 'ADT_C0214'\n",
       "134. 'ADT_C0171'\n",
       "135. 'ADT_C0241'\n",
       "136. 'ADT_C0091'\n",
       "137. 'ADT_C0090'\n",
       "138. 'ADT_C0092'\n",
       "139. 'ADT_C0236'\n",
       "140. 'ADT_C0238'\n",
       "141. 'ADT_C0095'\n",
       "\n",
       "\n"
      ],
      "text/plain": [
       "  [1] \"18\"        \"349\"       \"339\"       \"417\"       \"ADT_C0944\" \"ADT_C0145\"\n",
       "  [7] \"ADT_C0068\" \"ADT_C0155\" \"ADT_C0024\" \"ADT_C0219\" \"ADT_C0185\" \"ADT_C0161\"\n",
       " [13] \"ADT_C0053\" \"ADT_C0246\" \"ADT_C0064\" \"ADT_C0363\" \"ADT_C0390\" \"ADT_C0364\"\n",
       " [19] \"ADT_C0158\" \"ADT_C0355\" \"ADT_C0163\" \"ADT_C0134\" \"ADT_C0081\" \"ADT_C0151\"\n",
       " [25] \"ADT_C0032\" \"ADT_C0023\" \"ADT_C0420\" \"ADT_C0592\" \"ADT_C0599\" \"ADT_C0083\"\n",
       " [31] \"ADT_C0149\" \"ADT_C0358\" \"ADT_C0206\" \"ADT_C0385\" \"ADT_C0140\" \"ADT_C0144\"\n",
       " [37] \"ADT_C0050\" \"ADT_C0071\" \"ADT_C0141\" \"ADT_C0143\" \"ADT_C0160\" \"ADT_C0164\"\n",
       " [43] \"ADT_C0367\" \"ADT_C0100\" \"ADT_C0181\" \"ADT_C0393\" \"ADT_C0152\" \"ADT_C1052\"\n",
       " [49] \"ADT_C0368\" \"ADT_C0897\" \"ADT_C0180\" \"ADT_C0189\" \"ADT_C0085\" \"ADT_C0396\"\n",
       " [55] \"ADT_C0247\" \"ADT_C0215\" \"ADT_C0154\" \"ADT_C0020\" \"ADT_C0170\" \"ADT_C0007\"\n",
       " [61] \"ADT_C0088\" \"ADT_C0386\" \"ADT_C0369\" \"ADT_C0370\" \"ADT_C0124\" \"ADT_C0165\"\n",
       " [67] \"ADT_C0830\" \"ADT_C0142\" \"ADT_C0902\" \"ADT_C0052\" \"ADT_C0101\" \"ADT_C0167\"\n",
       " [73] \"ADT_C0864\" \"ADT_C0407\" \"ADT_C0389\" \"ADT_C0176\" \"ADT_C0034\" \"ADT_C0031\"\n",
       " [79] \"ADT_C0353\" \"ADT_C0216\" \"ADT_C0063\" \"ADT_C0087\" \"ADT_C0391\" \"ADT_C0026\"\n",
       " [85] \"ADT_C0029\" \"ADT_C0575\" \"ADT_C0371\" \"ADT_C0576\" \"ADT_C0072\" \"ADT_C0138\"\n",
       " [91] \"ADT_C0033\" \"ADT_C0217\" \"ADT_C0047\" \"ADT_C0168\" \"ADT_C0174\" \"ADT_C0147\"\n",
       " [97] \"ADT_C0218\" \"ADT_C0162\" \"ADT_C0146\" \"ADT_C0066\" \"ADT_C0394\" \"ADT_C0577\"\n",
       "[103] \"ADT_C0187\" \"ADT_C0046\" \"ADT_C0373\" \"ADT_C0920\" \"ADT_C0359\" \"ADT_C0896\"\n",
       "[109] \"ADT_C0006\" \"ADT_C1046\" \"ADT_C0867\" \"ADT_C0156\" \"ADT_C0845\" \"ADT_C0853\"\n",
       "[115] \"ADT_C0179\" \"ADT_C0352\" \"ADT_C0912\" \"ADT_C0058\" \"ADT_C0159\" \"ADT_C0918\"\n",
       "[121] \"ADT_C0894\" \"ADT_C0898\" \"ADT_C0384\" \"ADT_C0136\" \"ADT_C0153\" \"ADT_C0591\"\n",
       "[127] \"ADT_C0224\" \"ADT_C0581\" \"ADT_C0582\" \"ADT_C0089\" \"ADT_C0073\" \"ADT_C0070\"\n",
       "[133] \"ADT_C0214\" \"ADT_C0171\" \"ADT_C0241\" \"ADT_C0091\" \"ADT_C0090\" \"ADT_C0092\"\n",
       "[139] \"ADT_C0236\" \"ADT_C0238\" \"ADT_C0095\""
      ]
     },
     "metadata": {},
     "output_type": "display_data"
    }
   ],
   "source": [
    "rownames(sce)[rowData(sce)$Type==\"Antibody Capture\"]"
   ]
  },
  {
   "cell_type": "code",
   "execution_count": 16,
   "metadata": {},
   "outputs": [],
   "source": [
    "ix <- rownames(sce) %in% c(\"18\", \"349\", \"339\", \"417\")\n",
    "adt.mat <- counts(sce)[ix,]"
   ]
  },
  {
   "cell_type": "code",
   "execution_count": 17,
   "metadata": {},
   "outputs": [
    {
     "data": {
      "text/html": [
       "<style>\n",
       ".list-inline {list-style: none; margin:0; padding: 0}\n",
       ".list-inline>li {display: inline-block}\n",
       ".list-inline>li:not(:last-child)::after {content: \"\\00b7\"; padding: 0 .5ex}\n",
       "</style>\n",
       "<ol class=list-inline><li>4</li><li>733819</li></ol>\n"
      ],
      "text/latex": [
       "\\begin{enumerate*}\n",
       "\\item 4\n",
       "\\item 733819\n",
       "\\end{enumerate*}\n"
      ],
      "text/markdown": [
       "1. 4\n",
       "2. 733819\n",
       "\n",
       "\n"
      ],
      "text/plain": [
       "[1]      4 733819"
      ]
     },
     "metadata": {},
     "output_type": "display_data"
    }
   ],
   "source": [
    "dim(adt.mat)"
   ]
  },
  {
   "cell_type": "code",
   "execution_count": 19,
   "metadata": {},
   "outputs": [],
   "source": [
    "hashed <- hashedDrops(adt.mat)"
   ]
  },
  {
   "cell_type": "code",
   "execution_count": 20,
   "metadata": {},
   "outputs": [
    {
     "data": {
      "text/plain": [
       "DataFrame with 6 rows and 7 columns\n",
       "      Total      Best    Second     LogFC    LogFC2   Doublet Confident\n",
       "  <numeric> <integer> <integer> <numeric> <numeric> <logical> <logical>\n",
       "1         5         3         4  0.192645 0.4854268     FALSE     FALSE\n",
       "2         6         2         3  0.131263 0.2357060     FALSE     FALSE\n",
       "3         0         4         3  0.000000 0.0000000     FALSE     FALSE\n",
       "4         2         4         2  0.000000 0.2630344     FALSE     FALSE\n",
       "5         3         2         4  0.109656 0.0289066     FALSE     FALSE\n",
       "6         2         4         2  0.000000 0.2630344     FALSE     FALSE"
      ]
     },
     "metadata": {},
     "output_type": "display_data"
    }
   ],
   "source": [
    "head(hashed)"
   ]
  },
  {
   "cell_type": "code",
   "execution_count": 27,
   "metadata": {},
   "outputs": [
    {
     "data": {
      "text/plain": [
       "\n",
       " FALSE   TRUE \n",
       "718161  15658 "
      ]
     },
     "metadata": {},
     "output_type": "display_data"
    }
   ],
   "source": [
    "table(hashed$Confident)"
   ]
  },
  {
   "cell_type": "code",
   "execution_count": 28,
   "metadata": {},
   "outputs": [
    {
     "data": {
      "text/plain": [
       "[1] ‘3.16’"
      ]
     },
     "metadata": {},
     "output_type": "display_data"
    }
   ],
   "source": [
    "BiocManager::version()"
   ]
  },
  {
   "cell_type": "code",
   "execution_count": null,
   "metadata": {},
   "outputs": [],
   "source": []
  }
 ],
 "metadata": {
  "kernelspec": {
   "display_name": "r_cite",
   "language": "R",
   "name": "r_cite"
  },
  "language_info": {
   "codemirror_mode": "r",
   "file_extension": ".r",
   "mimetype": "text/x-r-source",
   "name": "R",
   "pygments_lexer": "r",
   "version": "4.2.1"
  }
 },
 "nbformat": 4,
 "nbformat_minor": 5
}
